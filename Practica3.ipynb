{
  "nbformat": 4,
  "nbformat_minor": 0,
  "metadata": {
    "colab": {
      "name": "Practica3.ipynb",
      "provenance": [],
      "collapsed_sections": []
    },
    "kernelspec": {
      "name": "python3",
      "display_name": "Python 3"
    },
    "language_info": {
      "name": "python"
    }
  },
  "cells": [
    {
      "cell_type": "markdown",
      "source": [
        "# **Complejidad Computacional**\n",
        "Universidad Nacional de Loja\n",
        "\n",
        "\n",
        "Jonathan David Sefla M.\n",
        "\n",
        "4to B - Práctica 3\n",
        "\n",
        "\n",
        "---\n",
        "\n"
      ],
      "metadata": {
        "id": "qU3KQa0iwwZi"
      }
    },
    {
      "cell_type": "markdown",
      "source": [
        "Para implementar un algoritmo es importante tener en cuenta la eficiencia del mismo(recursos informaticos que necesitar para ejecutarse).\n",
        "\n",
        "Para ello se necesita un método que sea independiente:\n",
        "\n",
        "\n",
        "*   Del Ordenador donde se ejecute.\n",
        "*   Del Lenguaje Informático en el que esté programado.\n",
        "*   Del Sistema Operativo en el que se ejecute el programa.\n",
        "*   De Factores Externos al propio algoritmo.\n",
        "\n",
        "Para esto tenemos el método de la **Notación Asintótica**\n",
        "\n",
        "\n",
        "Un ejemplo que nos va a servir para entender es el siguiente: \n",
        "\n",
        "Suma de *n* números = *(n / 2) * (n + 1)*"
      ],
      "metadata": {
        "id": "PFVn8HK5w_dx"
      }
    },
    {
      "cell_type": "markdown",
      "source": [
        "Ejercicio:\n",
        "Definir dos funciones para calcular la suma del 1 a n números.\n",
        "Una de ellas sumando uno a uno cada número, y otra aplicando la fórmula de la suma aritmética de Gaus."
      ],
      "metadata": {
        "id": "Ek3a6pEcjq20"
      }
    },
    {
      "cell_type": "code",
      "source": [
        "import time\n",
        "\n",
        "# = 1 + n * 2 = 1 + 2n\n",
        "# La complejidad del algoritmo = O(n)\n",
        "def suma_lineal(n):\n",
        "  suma = 0\n",
        "  for i in range(1, n+1):\n",
        "    suma += i\n",
        "  return suma\n",
        "\n",
        "# = 1 + 1 + 1 = 3\n",
        "# La complejidad del algoritmo = O(1)\n",
        "def suma_constante(n):\n",
        "  return (n / 2) * (n + 1)\n",
        "\n",
        "cantidad = 1000000\n",
        "\n",
        "for i in range(4):\n",
        "  \n",
        "  t0 = time.time()\n",
        "\n",
        "  suma1 = suma_lineal(cantidad)\n",
        "\n",
        "  t1 =time.time()\n",
        "\n",
        "  suma2 = suma_constante(cantidad)\n",
        "\n",
        "  t2 = time.time()\n",
        "\n",
        "  print(\"{}   -   {}\".format(suma1, t1-t0))\n",
        "  print(\"{}   -   {}\".format(suma1, t2-t1))\n",
        "\n",
        "  cantidad *= 10"
      ],
      "metadata": {
        "colab": {
          "base_uri": "https://localhost:8080/"
        },
        "id": "LhKwRIWNiW-Y",
        "outputId": "28be93c5-7e74-4046-daa0-55ba3701633f"
      },
      "execution_count": null,
      "outputs": [
        {
          "output_type": "stream",
          "name": "stdout",
          "text": [
            "500000500000   -   0.07017159461975098\n",
            "500000500000   -   6.198883056640625e-06\n",
            "50000005000000   -   0.7232639789581299\n",
            "50000005000000   -   4.5299530029296875e-06\n",
            "5000000050000000   -   7.107139587402344\n",
            "5000000050000000   -   5.245208740234375e-06\n",
            "500000000500000000   -   70.33608770370483\n",
            "500000000500000000   -   5.7220458984375e-06\n"
          ]
        }
      ]
    },
    {
      "cell_type": "markdown",
      "source": [
        "La notación asintótica nos permite representar de una forma general la cantidad de operacion o intrucciones que requiere un algoritmo para una cantidad dada de datos de entrada.\n",
        "\n",
        "Existen distintos tipos de notaciones asintóticas, se describira 3 en específico:\n",
        "\n",
        "*   O grande (Omicron) >>> El Peor de los Casos\n",
        "*   Ω grande (Omega) >>> El Mejor de los Casos\n",
        "*   Θ grande (Theta) >>> El Caso Promedio\n",
        "\n",
        "No importante que un algoritmo tarde en ejecutarse con una cantidad de datos de entrada pequeña, que apenas se va a aprecia y no sería muy util para distinguir un algortimo de otro, lo que interesa es saber cómo se comporta un algoritmo a medida que los datos de entrada aumentan, ya que a medida que crecen los datos el tiempo de ejecución puede crecer de una manera u otra, y si ese crecimiento de un algoritmo es muy grande, los tiempos de jecución se pueden disparar y pueden convertir la ejecución de ese algoritmo en impracticable.\n",
        "\n",
        "La medidad de la eficiencia de un algoritmo se puede aplicar a dos aspectos:\n",
        "*   En cuanto al tiempo de ejecución: Complejidad de Tiempo\n",
        "*   En cuanto al uso de memoria: Complejidad de Espacio\n",
        "\n",
        "Si lo datos crecen pero el número de operaciones no crece sino que permanece constante estaremos antes un orden de complejidad constante, que vimos en la función del ejercicio: suma_constante.\n",
        "\n",
        "\n",
        "Pero por el contrario a medida que los datos aumentan el número de operaciones aumenta en una proporción directa a esos datos diremos que estamos antes un orden de complejidad lineal, que vimos en la función del ejercicio: suma_lineal. \n",
        "\n",
        "Ordenes de complejidad de O grande:\n",
        "*   O(1) >>> Constante\n",
        "*   O(n) >>> Lineal \n",
        "\n",
        "\n",
        "*   O(n^2) >>> Cuadrático\n",
        "*   O(n^a) >>> Polinomial\n",
        "*   O(log n) >>> Logarítmico\n",
        "*   O(2^n) >>> Exponencial\n",
        "\n"
      ],
      "metadata": {
        "id": "Vc5xvKn81S4Y"
      }
    },
    {
      "cell_type": "markdown",
      "source": [
        "**O(1) & O(n)**\n",
        "\n",
        "\n",
        "Algoritmo para buscar un número en una lista"
      ],
      "metadata": {
        "id": "E2oizXEKtOF1"
      }
    },
    {
      "cell_type": "code",
      "source": [
        "lista_datos = [12, 26, 39, 25, 11, 18, 42, 31, 17, 23]\n",
        "\n",
        "dato_buscado = 31\n",
        "\n",
        "def busqueda_lineal(lista, buscar):\n",
        "    for elemento in lista:\n",
        "      if elemento == buscar:\n",
        "        return True\n",
        "    return False\n",
        "    #if buscar in lista:\n",
        "    #  return True\n",
        "    #return False\n",
        "\n",
        "if busqueda_lineal(lista_datos, dato_buscado):\n",
        "  print(\"Dato Encontrado\")\n",
        "else:\n",
        "  print(\"Dato NO Encontrado\")\n"
      ],
      "metadata": {
        "colab": {
          "base_uri": "https://localhost:8080/"
        },
        "id": "wyhtctMjtbHb",
        "outputId": "191d8ea4-3ad0-4b73-d506-3c7d85206918"
      },
      "execution_count": 6,
      "outputs": [
        {
          "output_type": "stream",
          "name": "stdout",
          "text": [
            "Dato Encontrado\n"
          ]
        }
      ]
    },
    {
      "cell_type": "markdown",
      "source": [
        "Por ejemplo si buscamos el 14, será en el mejor de los casos ya que solo se realiza **1** operación; en cambio si se busca el 23 los datos de entrada serán *n* haciendose **n** operaciones las que se realicen."
      ],
      "metadata": {
        "id": "h72uzS-g85Ba"
      }
    },
    {
      "cell_type": "markdown",
      "source": [
        "**La Notación Asintótica**\n",
        "\n",
        "\n",
        "*   Es una medida estimada\n",
        "*   Se ignoran las constantes\n",
        "*   Se toma sólo el término más complejo\n"
      ],
      "metadata": {
        "id": "IPjURx48_EJ_"
      }
    },
    {
      "cell_type": "markdown",
      "source": [
        "**O(n^2) & O(n^a)**\n",
        "\n",
        "\n",
        "Algoritmo que cada una lista de numeros compruebe si la suma de **dos** números tiene como resultado un número indicado.(se pueden repetir)"
      ],
      "metadata": {
        "id": "rmGghcWyAmgo"
      }
    },
    {
      "cell_type": "code",
      "source": [
        "cantidades = [12, 23, 41, 36, 28, 54, 35, 46, 52, 19, 27]\n",
        "numero = 80\n",
        "\n",
        "def suma_dos(lista, valor):\n",
        "  pares = []\n",
        "  for i in lista:\n",
        "    for j in lista:\n",
        "      if i + j == valor:\n",
        "        pares.append([i,j])\n",
        "  return pares\n",
        "\n",
        "\n",
        "print(\"Resultado:\", suma_dos(cantidades, numero))"
      ],
      "metadata": {
        "colab": {
          "base_uri": "https://localhost:8080/"
        },
        "id": "ro7J0g-TBdHc",
        "outputId": "fb8aced0-6c78-4059-bbda-0106666651ac"
      },
      "execution_count": 11,
      "outputs": [
        {
          "output_type": "stream",
          "name": "stdout",
          "text": [
            "Respuesta: [[28, 52], [52, 28]]\n"
          ]
        }
      ]
    },
    {
      "cell_type": "markdown",
      "source": [
        "La complejidad de este algoritmo es de *(n * n)* siendo n un número significativo. Entonces el orden de complejidad de este algoritmo: \n",
        "\n",
        "**O(n^2) Cuadrático** >>> No muy eficiente para una entrada de datos muy grande."
      ],
      "metadata": {
        "id": "tAG-4apECrUO"
      }
    },
    {
      "cell_type": "markdown",
      "source": [
        "Otro ejemplo similar:\n",
        "Algoritmo que cada una lista de numeros compruebe si la suma de **tres** números tiene como resultado un número indicado.(se pueden repetir)"
      ],
      "metadata": {
        "id": "dLASDjS-F8Xo"
      }
    },
    {
      "cell_type": "code",
      "source": [
        "cantidades = [12, 23, 41, 36, 28, 54, 35, 46, 52, 19, 27]\n",
        "numero = 80\n",
        "\n",
        "def suma_tres(lista, valor):\n",
        "  trios = []\n",
        "  for i in lista:\n",
        "    for j in lista:\n",
        "      for k in lista:\n",
        "        if i + j + k == valor:\n",
        "          trios.append([i, j, k])\n",
        "          #print(i, j, k)\n",
        "      \n",
        "  return trios\n",
        "\n",
        "print(\"Resultado: \", suma_tres(cantidades, numero))"
      ],
      "metadata": {
        "colab": {
          "base_uri": "https://localhost:8080/"
        },
        "id": "uuggWa7SDk_S",
        "outputId": "d39da74a-36bf-4126-9b02-1c92faf33de4"
      },
      "execution_count": 10,
      "outputs": [
        {
          "output_type": "stream",
          "name": "stdout",
          "text": [
            "[[12, 41, 27], [12, 27, 41], [41, 12, 27], [41, 27, 12], [27, 12, 41], [27, 41, 12]]\n"
          ]
        }
      ]
    },
    {
      "cell_type": "markdown",
      "source": [
        "El orden de complejidad de este ejemplo es de (n^3), ya que por cada elemento es un buble, pero.. ¿Qué sucede si la suma fuera de 4 números, o 5 u otra cantidad mayor? Se aumentarian los bucles for. A estas complejidades se las denomina **Polinomiales O(n^a)**, donde mientras mayor sea el valor menos eficiente será el algoritmo."
      ],
      "metadata": {
        "id": "vRk-mVahGnno"
      }
    },
    {
      "cell_type": "markdown",
      "source": [
        "**EJERCICIO**\n",
        "\n",
        "Una empresa de autopistas tiene instaladas una cámara que cuenta el número de vehículos que pasa por una autopista, y tiene instaladas unas gomas que cuentan el número de ruedas de los vehículos que pasan por la autopista.\n",
        "\n",
        "La empresa quiere contratar a un programador para que elabore un algorito que apartir del número de vehículos y el número de ruedas, extraiga la cantidad de coches y motos que pasan por la autopista.\n",
        "\n",
        "**Solución:**\n",
        "\n",
        "*Vehículos = (coches + motos)*\n",
        "\n",
        "*Ruedas = (coches * 4) + (motos * 2)* \n"
      ],
      "metadata": {
        "id": "kT4W9UHWITz_"
      }
    },
    {
      "cell_type": "code",
      "source": [
        "# Solución Ineficiente\n",
        "# Algoritmo O(n^2)\n",
        "def extraccion_1(vehiculos, ruedas):\n",
        "\n",
        "  for coches in range(vehiculos+1):\n",
        "    for motos in range(vehiculos+1):\n",
        "      if((coches+motos) == vehiculos) and ((coches*4 + motos*2) == ruedas):\n",
        "        return coches, motos\n",
        "  return None"
      ],
      "metadata": {
        "id": "PAnqOpHQI3qQ"
      },
      "execution_count": null,
      "outputs": []
    },
    {
      "cell_type": "code",
      "source": [
        "# Solución un poco más Eficiente\n",
        "# Algoritmo O(n)\n",
        "def extraccion_2(vehiculos, ruedas):\n",
        "  \n",
        "  for coches in range(vehiculos+1):\n",
        "    motos = vehiculos - coches\n",
        "    if coches * 4 +  motos * 2 == ruedas:\n",
        "        return coches, motos\n",
        "  return None"
      ],
      "metadata": {
        "id": "0QLUhw6LLPYn"
      },
      "execution_count": null,
      "outputs": []
    },
    {
      "cell_type": "code",
      "source": [
        "# Solución Eficiente\n",
        "# Algoritmo O(1)\n",
        "def extraccion_3(vehiculos, ruedas):\n",
        "  \n",
        "  coches = ruedas / 2 - vehiculos\n",
        "  motos = vehiculos - coches\n",
        "\n",
        "  if int(coches) + int(motos) == vehiculos:\n",
        "      return int(coches), int(motos)\n",
        "  else:\n",
        "      return None"
      ],
      "metadata": {
        "id": "RZBH4dsRL_3Z"
      },
      "execution_count": null,
      "outputs": []
    },
    {
      "cell_type": "markdown",
      "source": [
        "**Algoritmo de Búsqueda**\n",
        "\n",
        "*   Búsqueda Lineal: Complejidad >>> O(n)\n",
        "\n",
        "*   Búsqueda Binaria: Complejidad >>> O(log n)\n",
        "(Listas Ordenadas)\n",
        "\n",
        "La *búsqueda binaria* es un algoritmo eficiente para encontrar un elemento en una lista ordenada de elementos. Funciona al dividir repetidamente a la mitad la porción de la lista que podría contener al elemento, hasta reducir las ubicaciones posibles a solo una.\n",
        "\n"
      ],
      "metadata": {
        "id": "AyEs950DMxbo"
      }
    },
    {
      "cell_type": "markdown",
      "source": [
        "Implementación del algoritmo de búsqueda binaria en python:"
      ],
      "metadata": {
        "id": "XOVcZ3SFOqUd"
      }
    },
    {
      "cell_type": "code",
      "source": [
        "datos = [2, 3, 5, 6, 8, 11, 12, 15, 17, 18, 21, 23, 24, 29, 30]\n",
        "buscado = 8\n",
        "\n",
        "def busqueda_binaria(lista, elemento):\n",
        "  inicio = 0\n",
        "  final = len(lista)-1\n",
        "\n",
        "  while inicio <= final:\n",
        "    medio = (inicio + final) // 2\n",
        "    if lista[medio] == elemento:\n",
        "      return True\n",
        "    elif lista[medio] < elemento:\n",
        "      inicio = medio + 1\n",
        "    elif lista[medio] > elemento:\n",
        "      final = medio - 1\n",
        "  return False\n",
        "\n",
        "print (busqueda_binaria(datos, buscado))"
      ],
      "metadata": {
        "colab": {
          "base_uri": "https://localhost:8080/"
        },
        "id": "3W2bqvemO0Er",
        "outputId": "c2049923-fb2f-4c12-86f3-7e9ce8a0e9e7"
      },
      "execution_count": 14,
      "outputs": [
        {
          "output_type": "stream",
          "name": "stdout",
          "text": [
            "True\n"
          ]
        }
      ]
    },
    {
      "cell_type": "markdown",
      "source": [
        "**O(log n)**\n",
        "\n",
        "Primero, ¿Qué es un logaritmo?\n",
        "\n",
        "Un Logaritmo indica el exponente al que hay que elevar un número base para obtener el número original. donde *b* es la base del logaritmo.\n",
        "\n",
        "Ahora si:\n",
        "\n",
        "**n / 2^x = 1**\n",
        "\n",
        "*n* datos de entrada entre *2* al exponente *x* es igual a *1* (el valor final de salida).\n",
        "\n",
        "Si despejamos la *x* para saber cual es el exponente vemos que:\n",
        "\n",
        "**x = log2 (n)**\n",
        "\n",
        "*x* es el logaritmo en base *2* de *n*, es decir, las veces que hemos de dividir a la mitad los datos de entrada *n*, para llegar a un único valor."
      ],
      "metadata": {
        "id": "96QyLWUaIKQi"
      }
    },
    {
      "cell_type": "markdown",
      "source": [
        "Verifiquemos esto en  nuestro algoritmo de búsqueda binaria:"
      ],
      "metadata": {
        "id": "NsbiczcPT0JW"
      }
    },
    {
      "cell_type": "code",
      "source": [
        "datos = [] # Ahora agregamos una cantidad mayor, 15000000 datos\n",
        "for i in range(15000000): \n",
        "  datos.append(i)\n",
        "\n",
        "def busqueda_binaria(lista, elemento):\n",
        "  pasos = 0 # Nos devolvera el número de pasos para encontrar el valor deseado\n",
        "  inicio = 0\n",
        "  final = len(lista)-1\n",
        "\n",
        "  while inicio <= final:\n",
        "    pasos += 1\n",
        "    medio = (inicio + final) // 2\n",
        "    if lista[medio] == elemento:\n",
        "      return True, pasos\n",
        "    elif lista[medio] < elemento:\n",
        "      inicio = medio + 1\n",
        "    elif lista[medio] > elemento:\n",
        "      final = medio - 1\n",
        "  return False, pasos\n",
        "\n",
        "print (busqueda_binaria(datos, 12347))"
      ],
      "metadata": {
        "colab": {
          "base_uri": "https://localhost:8080/"
        },
        "id": "gG3J9Io8QXZJ",
        "outputId": "ffe1ede5-b805-48c8-e61e-20b3443f83bb"
      },
      "execution_count": 16,
      "outputs": [
        {
          "output_type": "stream",
          "name": "stdout",
          "text": [
            "(True, 24)\n"
          ]
        }
      ]
    },
    {
      "cell_type": "markdown",
      "source": [
        "Si calculamos el resultados podremos verificar que es correcto(aproximación)\n",
        "\n",
        "![logaritmo 15000000 base 2.PNG](data:image/png;base64,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)\n",
        "\n",
        "Tan solo 24 operaciones! Lo que en una búsqueda binaria nos tomaría el valor de operaciones igual al que valor buscamos(12347)"
      ],
      "metadata": {
        "id": "B6itxHoCQUIB"
      }
    },
    {
      "cell_type": "markdown",
      "source": [
        "**Realizando Búsquedas**\n",
        "\n",
        "Algoritmo de Censo en python"
      ],
      "metadata": {
        "id": "78-eIeEvaOJR"
      }
    },
    {
      "cell_type": "code",
      "source": [
        "import random\n",
        "\n",
        "censo = []\n",
        "alfabeto = \"ABCDEFGIJAEIOULMNOPRSTUAEIOU\"\n",
        "numero = 0\n",
        "\n",
        "print(\"Creando censo ...\")\n",
        "\n",
        "for i in range(500_000):\n",
        "  aumento = random.randint(1,2)\n",
        "  numero += aumento\n",
        "  \n",
        "  letras = random.sample(alfabeto, 5)\n",
        "  nombre = \"\".join(letras)\n",
        "\n",
        "  edad = random.randint(18, 99)\n",
        "\n",
        "  impuestos = random.choice((True, True, True, False))\n",
        "\n",
        "  censo.append([numero, nombre, edad, impuestos])\n",
        "\n",
        "  if len(censo) % 100_000 == 0:\n",
        "    print(\"Creados \", len(censo), \" registros\")\n",
        "\n",
        "print(\"Censo creado\")\n",
        "print(\"Ultimo registro: \", censo[-1])\n",
        "\n",
        "def busqueda_numero(lista, elemento): # Busca registros por número: Binaria\n",
        "  inicio = 0\n",
        "  final = len(lista)-1\n",
        "\n",
        "  while inicio <= final:\n",
        "    medio = (inicio + final) // 2\n",
        "    if lista[medio][0] == elemento:\n",
        "      return lista[medio]\n",
        "    elif lista[medio][0] < elemento:\n",
        "      inicio = medio + 1\n",
        "    elif lista[medio][0] > elemento:\n",
        "      final = medio - 1\n",
        "  return None\n",
        "\n",
        "\n",
        "def busqueda_nombre(lista, elemento): # Busca registros por nombre: Lineal\n",
        "  encontrados = []\n",
        "\n",
        "  for registro in lista:\n",
        "    if registro[1] == elemento:\n",
        "      encontrados.append(registro)\n",
        "  if len(encontrados) == 0:\n",
        "    return None\n",
        "  else:\n",
        "    return encontrados\n",
        "\n",
        "\n",
        "def muestra_registro(registro):\n",
        "  if registro == None:\n",
        "    print(\"NO existe registro con ese dato\")\n",
        "  else:\n",
        "    print(\"-------------------------------\")\n",
        "    print(\"Número: \", registro[0])\n",
        "    print(\"Nombre: \", registro[1])\n",
        "    print(\"Edad: \", registro[2])\n",
        "    print(\"Impuestos: \", registro[3])\n",
        "\n",
        "\n",
        "def menu():\n",
        "  print(\"-------------------------------\")\n",
        "  print(\"---   CENSO DE POBLACIÓN    ---\")\n",
        "  print(\"-------------------------------\")\n",
        "  print(\"1. Buscar por número\")\n",
        "  print(\"2. Buscar por nombre\")\n",
        "  print(\"3. Salir\")\n",
        "  opcion = \"\"\n",
        "  while opcion not in (\"1\", \"2\", \"3\"):\n",
        "    opcion = input(\"--> \")\n",
        "  return opcion\n",
        "\n",
        "while True:\n",
        "  op = menu()\n",
        "  if op == \"1\":\n",
        "    try:\n",
        "      numero = int(input(\"Introduce número: \"))\n",
        "    except ValueError:\n",
        "      print(\"Introduce un número entero\")\n",
        "    else:\n",
        "      registro = busqueda_numero(censo, numero)\n",
        "      muestra_registro(registro)\n",
        "\n",
        "  elif op == \"2\":\n",
        "    nombre = input(\"Introduce nombre: \").upper()\n",
        "    registros =  busqueda_nombre(censo, nombre)\n",
        "    if registros == None:\n",
        "      print(\"NO existe registro con ese dato\")\n",
        "    else:\n",
        "      for registro in registros:\n",
        "        muestra_registro(registro)\n",
        "\n",
        "  elif op == \"3\":\n",
        "    break"
      ],
      "metadata": {
        "colab": {
          "base_uri": "https://localhost:8080/"
        },
        "id": "KHT8Ww6lVu5s",
        "outputId": "9770b894-44c7-4ed6-fb6d-813cf476ee0b"
      },
      "execution_count": 22,
      "outputs": [
        {
          "name": "stdout",
          "output_type": "stream",
          "text": [
            "Creando censo ...\n",
            "Creados  100000  registros\n",
            "Creados  200000  registros\n",
            "Creados  300000  registros\n",
            "Creados  400000  registros\n",
            "Creados  500000  registros\n",
            "Censo creado\n",
            "Ultimo registro:  [749419, 'BOFNO', 58, False]\n",
            "-------------------------------\n",
            "---   CENSO DE POBLACIÓN    ---\n",
            "-------------------------------\n",
            "1. Buscar por número\n",
            "2. Buscar por nombre\n",
            "3. Salir\n",
            "--> 2\n",
            "Introduce nombre: BOFNO\n",
            "-------------------------------\n",
            "Número:  749419\n",
            "Nombre:  BOFNO\n",
            "Edad:  58\n",
            "Impuestos:  False\n",
            "-------------------------------\n",
            "---   CENSO DE POBLACIÓN    ---\n",
            "-------------------------------\n",
            "1. Buscar por número\n",
            "2. Buscar por nombre\n",
            "3. Salir\n",
            "--> 1\n",
            "Introduce número: 749419\n",
            "-------------------------------\n",
            "Número:  749419\n",
            "Nombre:  BOFNO\n",
            "Edad:  58\n",
            "Impuestos:  False\n",
            "-------------------------------\n",
            "---   CENSO DE POBLACIÓN    ---\n",
            "-------------------------------\n",
            "1. Buscar por número\n",
            "2. Buscar por nombre\n",
            "3. Salir\n",
            "--> 1\n",
            "Introduce número: 342423\n",
            "NO existe registro con ese dato\n",
            "-------------------------------\n",
            "---   CENSO DE POBLACIÓN    ---\n",
            "-------------------------------\n",
            "1. Buscar por número\n",
            "2. Buscar por nombre\n",
            "3. Salir\n",
            "--> 2\n",
            "Introduce nombre: maria\n",
            "NO existe registro con ese dato\n",
            "-------------------------------\n",
            "---   CENSO DE POBLACIÓN    ---\n",
            "-------------------------------\n",
            "1. Buscar por número\n",
            "2. Buscar por nombre\n",
            "3. Salir\n",
            "--> 3\n"
          ]
        }
      ]
    },
    {
      "cell_type": "markdown",
      "source": [
        ""
      ],
      "metadata": {
        "id": "rELIwbF7c43N"
      }
    }
  ]
}